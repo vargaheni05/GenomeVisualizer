{
 "cells": [
  {
   "cell_type": "markdown",
   "id": "0757c226",
   "metadata": {},
   "source": [
    "# Genome Analysis with `GenomeVisualizer`\n",
    "\n",
    "This notebook demonstrates how to use the `GenomeVisualizer` toolbox to analyze genomic DNA sequences.  \n",
    "We explore functions related to:\n",
    "* basic k-mer analysis\n",
    "* reverse complements\n",
    "* replication origin detection\n",
    "\n",
    "---"
   ]
  },
  {
   "cell_type": "markdown",
   "id": "546ce81b",
   "metadata": {},
   "source": [
    "### Import"
   ]
  },
  {
   "cell_type": "code",
   "execution_count": null,
   "id": "1f757676",
   "metadata": {},
   "outputs": [],
   "source": [
    "import GenomeVisualizer"
   ]
  },
  {
   "cell_type": "markdown",
   "id": "8b74706c",
   "metadata": {},
   "source": [
    "### Load genome sequence from a file"
   ]
  },
  {
   "cell_type": "code",
   "execution_count": null,
   "id": "b2f2ce68",
   "metadata": {},
   "outputs": [],
   "source": [
    "genome = GenomeVisualizer.load_genome_from_txt(\"ecoli.txt\")\n",
    "print(\"Genome length:\", len(genome))\n",
    "print(\"First 100 bases:\", genome[:100])"
   ]
  },
  {
   "cell_type": "markdown",
   "id": "66cee532",
   "metadata": {},
   "source": [
    "### Reverse complement - primer design use case\n",
    "\n",
    "Understanding the reverse complement of a DNA sequence is essential in molecular biology, especially in primer design.  \n",
    "When designing primers for PCR amplification or sequencing, the primer must bind to the complementary strand of the DNA in the correct orientation.\n",
    "\n",
    "The reverse complement gives you exactly what the primer will hybridize to — it reverses the sequence and swaps each base for its Watson–Crick pair:\n",
    "\n",
    "- A ↔ T  \n",
    "- C ↔ G\n",
    "\n",
    "This ensures that your primer will bind to the correct location on the target strand in the right direction."
   ]
  },
  {
   "cell_type": "code",
   "execution_count": null,
   "id": "701974b2",
   "metadata": {},
   "outputs": [],
   "source": [
    "sequence = \"AGCTTAGGCTA\"\n",
    "rc = GenomeVisualizer.ReverseComplement(sequence)\n",
    "print(\"Sequence:\", sequence)\n",
    "print(\"Reverse Complement (reverse primer):\", rc)"
   ]
  },
  {
   "cell_type": "markdown",
   "id": "b216f2ff",
   "metadata": {},
   "source": [
    "### Basic k-mer analysis\n",
    "\n",
    "In genomic analysis, a **k-mer** is a substring of length **k** extracted from a DNA sequence.  \n",
    "Studying the frequency of k-mers in a genome is a foundational method to uncover biological signals such as:\n",
    "\n",
    "- promoter regions,\n",
    "- repetitive elements,\n",
    "- binding sites,\n",
    "- and horizontal gene transfer signals.\n",
    "\n",
    "By counting the occurrences of each k-mer, we can identify which patterns are overrepresented — these are often biologically relevant.\n",
    "\n",
    "#### 🔬 Most frequent 5-mers in the first 1000 bases:"
   ]
  },
  {
   "cell_type": "code",
   "execution_count": null,
   "id": "4e1fa635",
   "metadata": {},
   "outputs": [],
   "source": [
    "subsequence = genome[:1000]\n",
    "k = 5\n",
    "\n",
    "freq_map = GenomeVisualizer.FrequencyMap(subsequence, k)\n",
    "top_kmers = GenomeVisualizer.FrequentWords(subsequence, k)\n",
    "\n",
    "sorted_freq_map = sorted(freq_map.items(), key=lambda item: item[1], reverse=True)\n",
    "\n",
    "print(f\"Top {k}-mers (most frequent):\", top_kmers)\n",
    "print(f\"Top 15 most frequent {k}-mers:\")\n",
    "for kmer, count in sorted_freq_map[:15]:\n",
    "    print(f\"{kmer}: {count}\")"
   ]
  },
  {
   "cell_type": "markdown",
   "id": "88cf8e95",
   "metadata": {},
   "source": [
    "### Visualize base composition using a symbol array\n",
    "\n",
    "In genomics, analyzing the base composition along the genome helps reveal nucleotide-rich regions.  \n",
    "For instance, **C-rich or G-rich domains** may signal structural features, regulatory zones, or genome organization patterns.\n",
    "\n",
    "#### 🔬 Frequency of 'C' nucleotides in the E. coli genome:"
   ]
  },
  {
   "cell_type": "code",
   "execution_count": null,
   "id": "faa6b744",
   "metadata": {},
   "outputs": [],
   "source": [
    "symbol_array = GenomeVisualizer.FasterSymbolArray(\"AAAAGGGG\", \"A\")\n",
    "for i, val in list(symbol_array.items())[:10]:\n",
    "    print(f\"Position {i}: {val}\")"
   ]
  },
  {
   "cell_type": "code",
   "execution_count": null,
   "id": "0e69e9a5",
   "metadata": {},
   "outputs": [],
   "source": [
    "array = {}\n",
    "array[0] = GenomeVisualizer.PatternCount(genome[0:len(genome)//2], \"C\")\n",
    "print(array[0])\n",
    "print(\"C\" in genome[0:100])\n",
    "print(genome)"
   ]
  }
 ],
 "metadata": {
  "kernelspec": {
   "display_name": "Python 3",
   "language": "python",
   "name": "python3"
  },
  "language_info": {
   "codemirror_mode": {
    "name": "ipython",
    "version": 3
   },
   "file_extension": ".py",
   "mimetype": "text/x-python",
   "name": "python",
   "nbconvert_exporter": "python",
   "pygments_lexer": "ipython3",
   "version": "3.12.6"
  }
 },
 "nbformat": 4,
 "nbformat_minor": 5
}
